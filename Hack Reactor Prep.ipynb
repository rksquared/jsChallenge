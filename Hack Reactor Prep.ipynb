{
 "cells": [
  {
   "cell_type": "markdown",
   "metadata": {},
   "source": [
    "# Hack Reactor Prep\n",
    "\n",
    "Each cell contains a codepen exercise"
   ]
  },
  {
   "cell_type": "code",
   "execution_count": 2,
   "metadata": {},
   "outputs": [
    {
     "name": "stdout",
     "output_type": "stream",
     "text": [
      "true\n"
     ]
    }
   ],
   "source": [
    "/*\n",
    "Write a function called \"isOldEnoughToDrink\".\n",
    "Given a number, in this case an age, \"isOldEnoughToDrink\" returns whether a person of this given age is old enough to legally drink in the United States.\n",
    "Notes:\n",
    "* The legal drinking age in the United States is 21.\n",
    "var output = isOldEnoughToDrink(22);\n",
    "console.log(output); // --> true\n",
    "*/\n",
    "\n",
    "function isOldEnoughToDrink(age) {\n",
    "  // your code here\n",
    "  if (age >= 21) {\n",
    "    return true;\n",
    "  }\n",
    "}\n",
    "\n",
    "var output = isOldEnoughToDrink(21);\n",
    "console.log(output);"
   ]
  },
  {
   "cell_type": "code",
   "execution_count": 4,
   "metadata": {},
   "outputs": [
    {
     "name": "stdout",
     "output_type": "stream",
     "text": [
      "old enough to drive\n",
      "true\n"
     ]
    }
   ],
   "source": [
    "/*\n",
    "Write a function called \"isOldEnoughToDrive\".\n",
    "Given a number, in this case an age, 'isOldEnoughToDrive' returns whether a person of this given age is old enough to legally drive in the United States.\n",
    "Notes:\n",
    "* The legal driving age in the United States is 16.\n",
    "var output = isOldEnoughToDrive(22);\n",
    "console.log(output); // --> true\n",
    "*/\n",
    "\n",
    "function isOldEnoughToDrive(age) {\n",
    "  // your code here\n",
    "  if (age >= 16) {\n",
    "    console.log(\"old enough to drive\");\n",
    "    return true;\n",
    "  } else {\n",
    "    console.log(\"not old enough to drive\");\n",
    "    return false;\n",
    "  }\n",
    "}\n",
    "\n",
    "var output = isOldEnoughToDrive(22);\n",
    "console.log(output);"
   ]
  },
  {
   "cell_type": "code",
   "execution_count": 6,
   "metadata": {},
   "outputs": [
    {
     "name": "stdout",
     "output_type": "stream",
     "text": [
      "can vote.\n",
      "true\n"
     ]
    }
   ],
   "source": [
    "/*\n",
    "Write a function called \"isOldEnoughToVote\".\n",
    "Given a number, in this case an age, 'isOldEnoughToVote' returns whether a person of this given age is old enough to legally vote in the United States.\n",
    "Notes:\n",
    "* The legal voting age in the United States is 18.\n",
    "var output = isOldEnoughToVote(22);\n",
    "console.log(output); // --> true\n",
    "*/\n",
    "\n",
    "function isOldEnoughToVote(age) {\n",
    "  // your code here\n",
    "  if (age >= 18) {\n",
    "    console.log(\"can vote.\");\n",
    "    return true;\n",
    "  } else {\n",
    "    console.log(\"not old enough to vote\");\n",
    "    return false;\n",
    "  }\n",
    "}\n",
    "\n",
    "var output = isOldEnoughToVote(22);\n",
    "console.log(output);"
   ]
  },
  {
   "cell_type": "code",
   "execution_count": 7,
   "metadata": {},
   "outputs": [
    {
     "name": "stdout",
     "output_type": "stream",
     "text": [
      "false\n"
     ]
    }
   ],
   "source": [
    "/*\n",
    "Write a function called \"isOldEnoughToDrinkAndDrive\".\n",
    "Given a number, in this case an age, \"isOldEnoughToDrinkAndDrive\" returns whether a person of this given age is old enough to legally drink and drive in the United States.\n",
    "Notes:\n",
    "* The legal drinking age in the United States is 21.\n",
    "* It is always illegal to drink and drive in the United States.\n",
    "var output = isOldEnoughToDrinkAndDrive(22);\n",
    "console.log(output); // --> false\n",
    "*/\n",
    "\n",
    "function isOldEnoughToDrinkAndDrive(age) {\n",
    "  // your code here\n",
    "  return false;\n",
    "}\n",
    "\n",
    "var output = isOldEnoughToDrinkAndDrive(22);\n",
    "console.log(output);"
   ]
  },
  {
   "cell_type": "code",
   "execution_count": 9,
   "metadata": {},
   "outputs": [
    {
     "name": "stdout",
     "output_type": "stream",
     "text": [
      "value\n"
     ]
    }
   ],
   "source": [
    "/*\n",
    "Write a function called \"getProperty\".\n",
    "Given an object and a key, \"getProperty\" returns the value of the property at the given key. \n",
    "Notes:\n",
    "* If there is no property at the given key, it should return undefined.\n",
    "var obj = {\n",
    "  key: 'value'\n",
    "};\n",
    "var output = getProperty(obj, 'key');\n",
    "console.log(output); // --> 'value'\n",
    "*/\n",
    "\n",
    "function getProperty(obj, key) {\n",
    "  // your code here\n",
    "  return obj[key]; \n",
    "}\n",
    "\n",
    "var obj = {\n",
    "  key: 'value'\n",
    "};\n",
    "\n",
    "var output = getProperty(obj, 'key');\n",
    "console.log(output);"
   ]
  },
  {
   "cell_type": "code",
   "execution_count": 10,
   "metadata": {},
   "outputs": [
    {
     "name": "stdout",
     "output_type": "stream",
     "text": [
      "true\n"
     ]
    }
   ],
   "source": [
    "/*\n",
    "Write a function called \"addProperty\".\n",
    "\n",
    "Given an object, and a key, \"addProperty\" sets a new property on the given object with a value of true.\n",
    "\n",
    "var myObj = {};\n",
    "addProperty(myObj, 'myProperty');\n",
    "console.log(myObj.myProperty); // --> true\n",
    "*/\n",
    "\n",
    "function addProperty(obj, key) {\n",
    "  // your code here\n",
    "  return obj[key] = true;\n",
    "}\n",
    "\n",
    "var myObj = {};\n",
    "addProperty(myObj, 'myProperty');\n",
    "console.log(myObj.myProperty);"
   ]
  },
  {
   "cell_type": "code",
   "execution_count": 11,
   "metadata": {},
   "outputs": [
    {
     "name": "stdout",
     "output_type": "stream",
     "text": [
      "undefined\n"
     ]
    }
   ],
   "source": [
    "/*\n",
    "Write a function called \"removeProperty\".\n",
    "Given an object and a key, \"removeProperty\" removes the given key from the given object.\n",
    "var obj = {\n",
    "  name: 'Sam',\n",
    "  age: 20\n",
    "}\n",
    "removeProperty(obj, 'name');\n",
    "console.log(obj.name); // --> undefined\n",
    "*/\n",
    "\n",
    "function removeProperty(obj, key) {\n",
    "  // your code here\n",
    "  delete obj[key];\n",
    "  return obj;\n",
    "}\n",
    "\n",
    "var obj = {\n",
    "  name: 'Sam',\n",
    "  age: 20\n",
    "}\n",
    "removeProperty(obj, 'name');\n",
    "console.log(obj.name);"
   ]
  },
  {
   "cell_type": "code",
   "execution_count": 12,
   "metadata": {},
   "outputs": [
    {
     "name": "stdout",
     "output_type": "stream",
     "text": [
      "Welcome, Adrian!\n"
     ]
    }
   ],
   "source": [
    "/*\n",
    "Write a function called \"checkAge\". \n",
    "Given a person's name and age, \"checkAge\" returns one of two messages:\n",
    "\"Go home, {insert_name_here}!\", if they are younger than 21.\n",
    "\"Welcome, {insert_name_here}!\", if they are 21 or older.\n",
    "Naturally, replace \"{insert_name_here}\" with the given name. :)\n",
    "var output = checkAge('Adrian', 22);\n",
    "console.log(output); // --> 'Welcome, Adrian!'\n",
    "*/\n",
    "\n",
    "function checkAge(name, age) {\n",
    "  // your code here\n",
    "  if (age < 21) {\n",
    "    return (\"Go home, \" + name + \"!\");\n",
    "  } else {\n",
    "    return (\"Welcome, \" + name + \"!\");\n",
    "  }\n",
    "}\n",
    "\n",
    "var output = checkAge('Adrian', 22);\n",
    "console.log(output);"
   ]
  },
  {
   "cell_type": "code",
   "execution_count": 13,
   "metadata": {},
   "outputs": [
    {
     "name": "stdout",
     "output_type": "stream",
     "text": [
      "Joe Smith\n"
     ]
    }
   ],
   "source": [
    "/*\n",
    "Write a function called \"getFullName\".\n",
    "Given a first and a last name, \"getFullName\" returns a single string with the given first and last names separated by a single space.\n",
    "var output = getFullName('Joe', 'Smith');\n",
    "console.log(output); // --> 'Joe Smith'\n",
    "*/\n",
    "\n",
    "function getFullName(firstName, lastName) {\n",
    "  // your code here\n",
    "  return (firstName + \" \" + lastName);\n",
    "}\n",
    "\n",
    "var output = getFullName('Joe', 'Smith');\n",
    "console.log(output);"
   ]
  },
  {
   "cell_type": "code",
   "execution_count": 14,
   "metadata": {},
   "outputs": [
    {
     "name": "stdout",
     "output_type": "stream",
     "text": [
      "4\n"
     ]
    }
   ],
   "source": [
    "/*\n",
    "Write a function called \"getLengthOfWord\".\n",
    "Given a word, \"getLengthOfWord\" returns the length of the given word.\n",
    "var output = getLengthOfWord('some');\n",
    "console.log(output); // --> 4\n",
    "*/\n",
    "\n",
    "function getLengthOfWord(word) {\n",
    "  // your code here\n",
    "  return word.length;\n",
    "}\n",
    "\n",
    "var output = getLengthOfWord('some');\n",
    "console.log(output);"
   ]
  },
  {
   "cell_type": "code",
   "execution_count": 15,
   "metadata": {},
   "outputs": [
    {
     "name": "stdout",
     "output_type": "stream",
     "text": [
      "9\n"
     ]
    }
   ],
   "source": [
    "/*\n",
    "Write a function called \"getLengthOfTwoWords\".\n",
    "Given 2 words, \"getLengthOfTwoWords\" returns the sum of their lengths.\n",
    "var output = getLengthOfTwoWords('some', 'words');\n",
    "console.log(output); // --> 9\n",
    "*/\n",
    "\n",
    "function getLengthOfTwoWords(word1, word2) {\n",
    "  // your code here\n",
    "  return (word1.length + word2.length);\n",
    "}\n",
    "\n",
    "var output = getLengthOfTwoWords('some', 'words');\n",
    "console.log(output);"
   ]
  },
  {
   "cell_type": "code",
   "execution_count": 17,
   "metadata": {},
   "outputs": [
    {
     "name": "stdout",
     "output_type": "stream",
     "text": [
      "true\n"
     ]
    }
   ],
   "source": [
    "/*Write a function called \"isGreaterThanTen\".\n",
    "Given a number, \"isGreaterThanTen\" returns whether it is greater than 10.\n",
    "var output = isGreaterThanTen(11);\n",
    "console.log(output); // --> true\n",
    "*/\n",
    "\n",
    "function isGreaterThanTen(num) {\n",
    "  // your code here\n",
    "  if (num > 10) {\n",
    "    return true;\n",
    "  } else {\n",
    "    return false;\n",
    "  }\n",
    "}\n",
    "var output = isGreaterThanTen(11);\n",
    "console.log(output);\n"
   ]
  },
  {
   "cell_type": "code",
   "execution_count": 18,
   "metadata": {},
   "outputs": [
    {
     "name": "stdout",
     "output_type": "stream",
     "text": [
      "true\n"
     ]
    }
   ],
   "source": [
    "/*\n",
    "Write a function called \"isLessThan30\".\n",
    "Given a number, \"isLessThan30\" returns whether the given number is less than 30.\n",
    "var output = isLessThan30(9);\n",
    "console.log(output); // --> true\n",
    "*/\n",
    "\n",
    "function isLessThan30(num) {\n",
    "  // your code here\n",
    "  if (num < 30) {\n",
    "    return true;\n",
    "  } else {\n",
    "    return false;\n",
    "  }\n",
    "}\n",
    "var output = isLessThan30(9);\n",
    "console.log(output);"
   ]
  },
  {
   "cell_type": "code",
   "execution_count": 19,
   "metadata": {},
   "outputs": [
    {
     "name": "stdout",
     "output_type": "stream",
     "text": [
      "false\n"
     ]
    }
   ],
   "source": [
    "/*\n",
    "Write a function called \"equalsTen\".\n",
    "Given a number, \"equalsTen\" returns whether or not the given number is 10.\n",
    "var output = equalsTen(9);\n",
    "console.log(output); // --> false\n",
    "*/\n",
    "\n",
    "function equalsTen(num) {\n",
    "  // your code here\n",
    "  if (num === 10) {\n",
    "    return true;\n",
    "  } else {\n",
    "    return false;\n",
    "  }\n",
    "}\n",
    "var output = equalsTen(9);\n",
    "console.log(output);"
   ]
  },
  {
   "cell_type": "code",
   "execution_count": 20,
   "metadata": {},
   "outputs": [
    {
     "name": "stdout",
     "output_type": "stream",
     "text": [
      "true\n"
     ]
    }
   ],
   "source": [
    "/*\n",
    "Write a function called \"isLessThan\".\n",
    "Given 2 numbers, \"isLessThan\" returns whether num2 is less than num1.\n",
    "var output = isLessThan(9, 4);\n",
    "console.log(output); // --> true\n",
    "*/\n",
    "\n",
    "function isLessThan(num1, num2) {\n",
    "  // your code here\n",
    "  if (num2 < num1) {\n",
    "    return true;\n",
    "  } else {\n",
    "    return false;\n",
    "  }\n",
    "}\n",
    "var output = isLessThan(9, 4);\n",
    "console.log(output);"
   ]
  },
  {
   "cell_type": "code",
   "execution_count": 21,
   "metadata": {},
   "outputs": [
    {
     "name": "stdout",
     "output_type": "stream",
     "text": [
      "false\n"
     ]
    }
   ],
   "source": [
    "/*\n",
    "Write a function called \"isGreaterThan\".\n",
    "Given 2 numbers, \"isGreaterThan\" returns whether num2 is greater than num1.\n",
    "var output = isGreaterThan(11, 10);\n",
    "console.log(output); // --> false\n",
    "*/\n",
    "\n",
    "function isGreaterThan(num1, num2) {\n",
    "  // your code here\n",
    "  if (num2 > num1) {\n",
    "    return true;\n",
    "  } else {\n",
    "    return false;\n",
    "  }\n",
    "}\n",
    "var output = isGreaterThan(11, 10);\n",
    "console.log(output);"
   ]
  },
  {
   "cell_type": "code",
   "execution_count": 22,
   "metadata": {},
   "outputs": [
    {
     "name": "stdout",
     "output_type": "stream",
     "text": [
      "false\n"
     ]
    }
   ],
   "source": [
    "/*\n",
    "Write a function called \"isEqualTo\".\n",
    "Given 2 numbers, \"isEqualTo\" returns whether num2 is equal to num1.\n",
    "var output = isEqualTo(11, 10);\n",
    "console.log(output); // --> false\n",
    "*/\n",
    "\n",
    "function isEqualTo(num1, num2) {\n",
    "  // your code here\n",
    "  if (num2 === num1) {\n",
    "    return true;\n",
    "  } else {\n",
    "    return false;\n",
    "  }\n",
    "}\n",
    "var output = isEqualTo(11, 10);\n",
    "console.log(output);"
   ]
  },
  {
   "cell_type": "code",
   "execution_count": 23,
   "metadata": {},
   "outputs": [
    {
     "name": "stdout",
     "output_type": "stream",
     "text": [
      "false\n"
     ]
    }
   ],
   "source": [
    "/*\n",
    "Write a function called \"isEven\".\n",
    "Given a number, \"isEven\" returns whether it is even.\n",
    "var output = isEven(11);\n",
    "console.log(output); // --> false\n",
    "*/\n",
    "\n",
    "function isEven(num) {\n",
    "  // your code here\n",
    "  if (num % 2 === 0) {\n",
    "    return true;\n",
    "  } else {\n",
    "    return false;\n",
    "  }\n",
    "}\n",
    "var output = isEven(11);\n",
    "console.log(output);"
   ]
  },
  {
   "cell_type": "code",
   "execution_count": 24,
   "metadata": {},
   "outputs": [
    {
     "name": "stdout",
     "output_type": "stream",
     "text": [
      "true\n"
     ]
    }
   ],
   "source": [
    "/*\n",
    "Write a function called \"isOdd\".\n",
    "Given a number, \"isOdd\" returns whether the given number is odd.\n",
    "var output = isOdd(9);\n",
    "console.log(output); // --> true\n",
    "*/\n",
    "\n",
    "function isOdd(num) {\n",
    "  // your code here\n",
    "  if (num % 2 === 0) {\n",
    "    return false;\n",
    "  } else {\n",
    "    return true;\n",
    "  }\n",
    "}\n",
    "var output = isOdd(9);\n",
    "console.log(output);"
   ]
  },
  {
   "cell_type": "code",
   "execution_count": 25,
   "metadata": {},
   "outputs": [
    {
     "name": "stdout",
     "output_type": "stream",
     "text": [
      "true\n"
     ]
    }
   ],
   "source": [
    "/*\n",
    "Write a function called \"isSameLength\".\n",
    "Given two words, \"isSameLength\" returns whether the given words have the same length.\n",
    "var output = isSameLength('words', 'super');\n",
    "console.log(output); // --> true\n",
    "*/\n",
    "\n",
    "function isSameLength(word1, word2) {\n",
    "  // your code here\n",
    "  if (word1.length === word2.length) {\n",
    "    return true;\n",
    "  } else {\n",
    "    return false;\n",
    "  }\n",
    "}\n",
    "var output = isSameLength('words', 'super');\n",
    "console.log(output);"
   ]
  },
  {
   "cell_type": "code",
   "execution_count": 26,
   "metadata": {},
   "outputs": [
    {
     "name": "stdout",
     "output_type": "stream",
     "text": [
      "true\n"
     ]
    }
   ],
   "source": [
    "/*\n",
    "Write a function called \"areBothOdd\".\n",
    "Given 2 numbers, \"areBothOdd\" returns whether or not both of the given numbers are odd.\n",
    "var output = areBothOdd(1, 3);\n",
    "console.log(output); // --> true\n",
    "*/\n",
    "\n",
    "function areBothOdd(num1, num2) {\n",
    "  // your code here\n",
    "  if ((num1 % 2 !== 0) && (num2 % 2 !== 0)) {\n",
    "    return true;\n",
    "  } else {\n",
    "    return false;\n",
    "  }\n",
    "}\n",
    "var output = areBothOdd(1, 3);\n",
    "console.log(output);"
   ]
  },
  {
   "cell_type": "code",
   "execution_count": 27,
   "metadata": {},
   "outputs": [
    {
     "name": "stdout",
     "output_type": "stream",
     "text": [
      "true\n"
     ]
    }
   ],
   "source": [
    "/*\n",
    "Write a function called \"isEitherEven\".\n",
    "Given two numbers, \"isEitherEven\" returns whether or not either one of the given numbers is even.\n",
    "var output = isEitherEven(1, 4);\n",
    "console.log(output); // --> true\n",
    "*/\n",
    "\n",
    "function isEitherEven(num1, num2) {\n",
    "  // your code here\n",
    "  if ((num1 % 2 === 0) || (num2 % 2 === 0)) {\n",
    "    return true;\n",
    "  } else {\n",
    "    return false;\n",
    "  }\n",
    "}\n",
    "var output = isEitherEven(1, 4);\n",
    "console.log(output);"
   ]
  },
  {
   "cell_type": "code",
   "execution_count": 28,
   "metadata": {},
   "outputs": [
    {
     "name": "stdout",
     "output_type": "stream",
     "text": [
      "true\n"
     ]
    }
   ],
   "source": [
    "/*\n",
    "Write a function called \"isOddLength\".\n",
    "Given a word, \"isOddLength\" returns whether the length of the given word is odd.\n",
    "var output = isOddLength('special');\n",
    "console.log(output); // --> true\n",
    "*/\n",
    "\n",
    "function isOddLength(word) {\n",
    "  // your code here\n",
    "  if (word.length % 2 !== 0) {\n",
    "    return true;\n",
    "  } else {\n",
    "    return false;\n",
    "  }\n",
    "}\n",
    "var output = isOddLength('special');\n",
    "console.log(output);"
   ]
  },
  {
   "cell_type": "code",
   "execution_count": 29,
   "metadata": {},
   "outputs": [
    {
     "name": "stdout",
     "output_type": "stream",
     "text": [
      "false\n"
     ]
    }
   ],
   "source": [
    "/*\n",
    "Write a function called \"isEvenLength\".\n",
    "Given a word, \"isEvenLength\" returns whether the length of the word is even.\n",
    "var output = isEvenLength('wow');\n",
    "console.log(output); // --> false\n",
    "*/\n",
    "\n",
    "function isEvenLength(word) {\n",
    "  // your code here\n",
    "  if (word.length % 2 === 0) {\n",
    "    return true;\n",
    "  } else {\n",
    "    return false;\n",
    "  }\n",
    "}\n",
    "var output = isEvenLength('wow');\n",
    "console.log(output);"
   ]
  },
  {
   "cell_type": "code",
   "execution_count": 30,
   "metadata": {},
   "outputs": [
    {
     "name": "stdout",
     "output_type": "stream",
     "text": [
      "false\n"
     ]
    }
   ],
   "source": [
    "/*\n",
    "Write a function called \"isEvenAndGreaterThanTen\".\n",
    "Given a number, \"isEvenAndGreaterThanTen\" returns whether it is both even and greater than 10.\n",
    "var output = isEvenAndGreaterThanTen(13);\n",
    "console.log(output); // --> false\n",
    "*/\n",
    "\n",
    "function isEvenAndGreaterThanTen(num) {\n",
    "  // your code here\n",
    "  if (num > 10 && num % 2 === 0) {\n",
    "    return true;\n",
    "  } else {\n",
    "    return false;\n",
    "  }\n",
    "}\n",
    "var output = isEvenAndGreaterThanTen(13);\n",
    "console.log(output);"
   ]
  },
  {
   "cell_type": "code",
   "execution_count": 31,
   "metadata": {},
   "outputs": [
    {
     "name": "stdout",
     "output_type": "stream",
     "text": [
      "5\n"
     ]
    }
   ],
   "source": [
    "/*\n",
    "Write a function called \"average\".\n",
    "Given two numbers, \"average\" returns their average.\n",
    "var output = average(4, 6);\n",
    "console.log(output); // --> 5\n",
    "*/\n",
    "\n",
    "function average(num1, num2) {\n",
    "  // your code here\n",
    "  return ((num1 + num2)/2);\n",
    "}\n",
    "\n",
    "var output = average(4, 6);\n",
    "console.log(output);"
   ]
  },
  {
   "cell_type": "code",
   "execution_count": 32,
   "metadata": {},
   "outputs": [
    {
     "name": "stdout",
     "output_type": "stream",
     "text": [
      "12\n"
     ]
    }
   ],
   "source": [
    "/*\n",
    "Write a function called \"computeAreaOfATriangle\".\n",
    "Given the base and height of a triangle, \"computeAreaOfATriangle\" returns its area.\n",
    "var output = computeAreaOfATriangle(4, 6);\n",
    "console.log(output); // --> 12\n",
    "*/\n",
    "\n",
    "function computeAreaOfATriangle(base, height) {\n",
    "  // your code here\n",
    "  return ((base * height)/2);\n",
    "}\n",
    "var output = computeAreaOfATriangle(4, 6);\n",
    "console.log(output);"
   ]
  },
  {
   "cell_type": "code",
   "execution_count": 33,
   "metadata": {},
   "outputs": [
    {
     "name": "stdout",
     "output_type": "stream",
     "text": [
      "27\n"
     ]
    }
   ],
   "source": [
    "/*\n",
    "Write a function called \"cube\".\n",
    "Given a number, \"cube\" returns the cube of that number.\n",
    "var output = cube(3);\n",
    "console.log(output); // --> 27\n",
    "*/\n",
    "\n",
    "function cube(num) {\n",
    "  // your code here\n",
    "  return (num * num * num);\n",
    "}\n",
    "var output = cube(3);\n",
    "console.log(output);"
   ]
  },
  {
   "cell_type": "code",
   "execution_count": 34,
   "metadata": {},
   "outputs": [
    {
     "name": "stdout",
     "output_type": "stream",
     "text": [
      "25\n"
     ]
    }
   ],
   "source": [
    "/*\n",
    "Write a function called \"square\".\n",
    "Given a number, \"square\" should return the square of the given number.\n",
    "var output = square(5);\n",
    "console.log(output); // --> 25\n",
    "*/\n",
    "\n",
    "function square(num) {\n",
    "  // your code here\n",
    "  return (num * num);\n",
    "}\n",
    "var output = square(5);\n",
    "console.log(output);"
   ]
  },
  {
   "cell_type": "code",
   "execution_count": 35,
   "metadata": {},
   "outputs": [
    {
     "name": "stdout",
     "output_type": "stream",
     "text": [
      "6\n"
     ]
    }
   ],
   "source": [
    "/*\n",
    "Write a function called \"computeAverageLengthOfWords\".\n",
    "Given two words, \"computeAverageLengthOfWords\" returns the average of their lengths.\n",
    "var output = computeAverageLengthOfWords('code', 'programs');\n",
    "console.log(output); // --> 6\n",
    "*/\n",
    "\n",
    "function computeAverageLengthOfWords(word1, word2) {\n",
    "  // your code here\n",
    "  return ((word1.length + word2.length)/2);\n",
    "}\n",
    "var output = computeAverageLengthOfWords('code', 'programs');\n",
    "console.log(output);"
   ]
  },
  {
   "cell_type": "code",
   "execution_count": 41,
   "metadata": {},
   "outputs": [
    {
     "name": "stdout",
     "output_type": "stream",
     "text": [
      "Jade Smith\n",
      "Jade Smith\n"
     ]
    }
   ],
   "source": [
    "/*\n",
    "Write a function called \"addFullNameProperty\".\n",
    "Given an object that has a \"firstName\" property and a \"lastName\" property, \"addFullNameProperty\" returns a \"fullName\" property whose value is a string with the first name and last name separated by a space.\n",
    "var person = {\n",
    "  firstName: 'Jade',\n",
    "  lastName: 'Smith'\n",
    "};\n",
    "addFullNameProperty(person);\n",
    "console.log(person.fullName); // --> 'Jade Smith'\n",
    "*/\n",
    "\n",
    "function addFullNameProperty(obj) {\n",
    "  // your code here\n",
    "  obj['fullName'] = obj['firstName'] + ' ' + obj['lastName'];\n",
    "  console.log(obj['fullName']);\n",
    "}\n",
    "\n",
    "var person = {\n",
    "  firstName : 'Jade',\n",
    "  lastName : 'Smith'\n",
    "};\n",
    "\n",
    "var output = addFullNameProperty(person);\n",
    "console.log(person.fullName);"
   ]
  },
  {
   "cell_type": "code",
   "execution_count": 42,
   "metadata": {},
   "outputs": [
    {
     "name": "stdout",
     "output_type": "stream",
     "text": [
      "{ name: 'Mr. Burns', role: 'supervisor' }\n"
     ]
    }
   ],
   "source": [
    "/*\n",
    "Write a function called \"addObjectProperty\".\n",
    "Given two objects and a key, \"addObjectProperty\" sets a new property on the 1st object at the given key. The value of that new property is the entire 2nd object.\n",
    "var person1 = {\n",
    "  name: 'Joe Blow',\n",
    "  role: 'schlub'\n",
    "};\n",
    "var person2 = {\n",
    "  name: 'Mr. Burns',\n",
    "  role: 'supervisor'\n",
    "};\n",
    "addObjectProperty(person1, 'manager', person2);\n",
    "console.log(person1.manager); // --> { name: 'Mr. Burns', role: 'supervisor' }\n",
    "*/\n",
    "\n",
    "function addObjectProperty(obj1, key, obj2) {\n",
    "  // your code here\n",
    "  obj1[key] = obj2;\n",
    "}\n",
    "\n",
    "var person1 = {\n",
    "  name: 'Joe Blow',\n",
    "  role: 'schlub'\n",
    "};\n",
    "var person2 = {\n",
    "  name: 'Mr. Burns',\n",
    "  role: 'supervisor'\n",
    "};\n",
    "addObjectProperty(person1, 'manager', person2);\n",
    "console.log(person1.manager);"
   ]
  },
  {
   "cell_type": "code",
   "execution_count": 43,
   "metadata": {},
   "outputs": [
    {
     "name": "stdout",
     "output_type": "stream",
     "text": [
      "false\n"
     ]
    }
   ],
   "source": [
    "/*\n",
    "Write a function called \"isPersonOldEnoughToDrinkAndDrive\".\n",
    "Given a \"person\" object, that contains an \"age\" property, \"isPersonOldEnoughToDrinkAndDrive\" returns whether the given person is old enough to legally drink and drive in the United States.\n",
    "Notes:\n",
    "* The legal drinking age in the United States is 21.\n",
    "* The legal driving age in the United States is 16.\n",
    "* It is always illegal to drink and drive in the United States.\n",
    "var obj = {\n",
    "  age: 45\n",
    "};\n",
    "var output = isPersonOldEnoughToDrinkAndDrive(obj);\n",
    "console.log(output); // --> false\n",
    "*/\n",
    "\n",
    "function isPersonOldEnoughToDrinkAndDrive(person) {\n",
    "  // your code here\n",
    "  return false;\n",
    "}\n",
    "var obj = {\n",
    "  age: 45\n",
    "};\n",
    "var output = isPersonOldEnoughToDrinkAndDrive(obj);\n",
    "console.log(output);"
   ]
  },
  {
   "cell_type": "code",
   "execution_count": 44,
   "metadata": {},
   "outputs": [
    {
     "name": "stdout",
     "output_type": "stream",
     "text": [
      "true\n"
     ]
    }
   ],
   "source": [
    "/*\n",
    "Write a function called \"isPersonOldEnoughToDrive\".\n",
    "Given a \"person\" object, that contains an \"age\" property, \"isPersonOldEnoughToDrive\" returns whether the given person is old enough to drive.\n",
    "Notes:\n",
    "* The legal driving age in the United States is 16.\n",
    "var obj = {\n",
    "  age: 16\n",
    "};\n",
    "var output = isPersonOldEnoughToDrive(obj);\n",
    "console.log(output); // --> true\n",
    "*/\n",
    "\n",
    "\n",
    "function isPersonOldEnoughToDrive(person) {\n",
    "  // your code here\n",
    "  if (person[\"age\"] >= 16) {\n",
    "    return true;\n",
    "  } else {\n",
    "    return false;\n",
    "  }\n",
    "}\n",
    "var obj = {\n",
    "  age: 16\n",
    "};\n",
    "var output = isPersonOldEnoughToDrive(obj);\n",
    "console.log(output);"
   ]
  },
  {
   "cell_type": "code",
   "execution_count": 45,
   "metadata": {},
   "outputs": [
    {
     "name": "stdout",
     "output_type": "stream",
     "text": [
      "true\n"
     ]
    }
   ],
   "source": [
    "/*\n",
    "Write a function called \"isPersonOldEnoughToVote\".\n",
    "Given a \"person\" object, that contains an \"age\" property, \"isPersonOldEnoughToVote\" returns whether the given person is old enough to vote.\n",
    "Notes:\n",
    "* The legal voting age in the United States is 18.\n",
    "var obj = {\n",
    "  age: 19\n",
    "};\n",
    "var output = isPersonOldEnoughToVote(obj);\n",
    "console.log(output); // --> true\n",
    "*/\n",
    "\n",
    "function isPersonOldEnoughToVote(person) {\n",
    "  // your code here\n",
    "  if (person[\"age\"] >= 18) {\n",
    "    return true;\n",
    "  } else {\n",
    "    return false;\n",
    "  }\n",
    "}\n",
    "var obj = {\n",
    "  age: 19\n",
    "};\n",
    "var output = isPersonOldEnoughToVote(obj);\n",
    "console.log(output);"
   ]
  },
  {
   "cell_type": "code",
   "execution_count": 46,
   "metadata": {},
   "outputs": [
    {
     "name": "stdout",
     "output_type": "stream",
     "text": [
      "false\n"
     ]
    }
   ],
   "source": [
    "/*\n",
    "Write a function called \"isPersonOldEnoughToDrink\".\n",
    "Given a \"person\" object, that contains an \"age\" property, \"isPersonOldEnoughToDrink\" returns whether the given person is old enough to drink.\n",
    "Notes:\n",
    "* The legal drinking age in the United States is 21.\n",
    "var obj = {\n",
    "  age: 16\n",
    "};\n",
    "var output = isPersonOldEnoughToDrink(obj);\n",
    "console.log(output); // --> false\n",
    "*/\n",
    "\n",
    "function isPersonOldEnoughToDrink(person) {\n",
    "  // your code here\n",
    "  if (person[\"age\"] >= 21) {\n",
    "    return true;\n",
    "  } else {\n",
    "    return false;\n",
    "  }\n",
    "}\n",
    "var obj = {\n",
    "  age: 16\n",
    "};\n",
    "var output = isPersonOldEnoughToDrink(obj);\n",
    "console.log(output);"
   ]
  },
  {
   "cell_type": "code",
   "execution_count": 47,
   "metadata": {},
   "outputs": [
    {
     "name": "stdout",
     "output_type": "stream",
     "text": [
      "[ 1, 3 ]\n"
     ]
    }
   ],
   "source": [
    "/*\n",
    "Write a function called \"addArrayProperty\".\n",
    "Given an object, a key, and an array, \"addArrayProperty\" sets a new property on the object at the given key, with its value set to the given array.\n",
    "var myObj = {};\n",
    "var myArray = [1, 3];\n",
    "addArrayProperty(myObj, 'myProperty', myArray);\n",
    "console.log(myObj.myProperty); // --> [1, 3]\n",
    "*/\n",
    "\n",
    "function addArrayProperty(obj, key, arr) {\n",
    "  // your code here\n",
    "  obj[key] = arr;\n",
    "}\n",
    "var myObj = {};\n",
    "var myArray = [1, 3];\n",
    "addArrayProperty(myObj, 'myProperty', myArray);\n",
    "console.log(myObj.myProperty);"
   ]
  },
  {
   "cell_type": "code",
   "execution_count": 48,
   "metadata": {},
   "outputs": [
    {
     "name": "stdout",
     "output_type": "stream",
     "text": [
      "3\n"
     ]
    }
   ],
   "source": [
    "/*\n",
    "Write a function called \"getNthElement\".\n",
    "Given an array and an integer, \"getNthElement\" returns the element at the given integer, within the given array.\n",
    "Notes:\n",
    "* If the array has a length of 0, it should return 'undefined'.\n",
    "var output = getNthElement([1, 3, 5], 1);\n",
    "console.log(output); // --> 3\n",
    "*/\n",
    "\n",
    "function getNthElement(array, n) {\n",
    "  // your code here\n",
    "  return array[n];\n",
    "}\n",
    "var output = getNthElement([1, 3, 5], 1);\n",
    "console.log(output);"
   ]
  },
  {
   "cell_type": "code",
   "execution_count": 49,
   "metadata": {},
   "outputs": [
    {
     "name": "stdout",
     "output_type": "stream",
     "text": [
      "1\n"
     ]
    }
   ],
   "source": [
    "/*\n",
    "Write a function called \"getFirstElement\".\n",
    "Given an array, \"getFirstElement\" returns the first element of the given array.\n",
    "Notes:\n",
    "* If the given array has a length of 0, it should return undefined.\n",
    "var output = getFirstElement([1, 2, 3, 4, 5]);\n",
    "console.log(output); // --> 1\n",
    "*/\n",
    "\n",
    "function getFirstElement(array) {\n",
    "  // your code here\n",
    "  return array[0];\n",
    "}\n",
    "var output = getFirstElement([1, 2, 3, 4, 5]);\n",
    "console.log(output);"
   ]
  },
  {
   "cell_type": "code",
   "execution_count": 50,
   "metadata": {},
   "outputs": [
    {
     "name": "stdout",
     "output_type": "stream",
     "text": [
      "4\n"
     ]
    }
   ],
   "source": [
    "/*\n",
    "Write a function called \"getLastElement\".\n",
    "Given an array, \"getLastElement\" returns the last element of the given array.\n",
    "Notes:\n",
    "* If the given array has a length of 0, it should return 'undefined'.\n",
    "var output = getLastElement([1, 2, 3, 4]);\n",
    "console.log(output); // --> 4\n",
    "*/\n",
    "\n",
    "function getLastElement(array) {\n",
    "  // your code here\n",
    "  return (array[array.length-1]);\n",
    "}\n",
    "var output = getLastElement([1, 2, 3, 4]);\n",
    "console.log(output);"
   ]
  },
  {
   "cell_type": "code",
   "execution_count": 59,
   "metadata": {},
   "outputs": [
    {
     "name": "stdout",
     "output_type": "stream",
     "text": [
      "[ 3, 1, 2 ]\n"
     ]
    }
   ],
   "source": [
    "/*\n",
    "Write a function called \"addToFront\".\n",
    "Given an array and an element, \"addToFront\" adds the given element to the front of the given array, and returns the given array.\n",
    "Notes: \n",
    "* It should be the SAME array, not a new array.\n",
    "var output = addToFront([1, 2], 3);\n",
    "console.log(output); // -> [3, 1, 2]\n",
    "*/\n",
    "\n",
    "function addToFront(arr, element) {\n",
    "  // your code here\n",
    "  arr.unshift(element);\n",
    "  return arr;\n",
    "}\n",
    "var output = addToFront([1, 2], 3);\n",
    "console.log(output);"
   ]
  },
  {
   "cell_type": "code",
   "execution_count": 60,
   "metadata": {},
   "outputs": [
    {
     "name": "stdout",
     "output_type": "stream",
     "text": [
      "[ 1, 2, 3 ]\n"
     ]
    }
   ],
   "source": [
    "/*\n",
    "Write a function called \"addToBack\".\n",
    "Given an array and an element, \"addToBack\" returns the given array with the given element added to the end.\n",
    "Note: It should be the SAME array, not a new array.\n",
    "var output = addToBack([1, 2], 3);\n",
    "console.log(output); // -> [1, 2, 3]\n",
    "*/\n",
    "\n",
    "function addToBack(arr, element) {\n",
    "  // your code here\n",
    "  arr.push(element);\n",
    "  return arr;\n",
    "}\n",
    "var output = addToBack([1, 2], 3);\n",
    "console.log(output);\n"
   ]
  },
  {
   "cell_type": "code",
   "execution_count": 62,
   "metadata": {},
   "outputs": [
    {
     "name": "stdout",
     "output_type": "stream",
     "text": [
      "32\n"
     ]
    }
   ],
   "source": [
    "/*\n",
    "Write a function called \"computeAreaOfARectangle\".\n",
    "Given the length and width of a rectangle, \"computeAreaOfARectangle\" returns its area.\n",
    "var output = computeAreaOfARectangle(4, 8);\n",
    "console.log(output); // --> 32\n",
    "*/\n",
    "\n",
    "function computeAreaOfARectangle(length, width) {\n",
    "  // your code here\n",
    "  return (length * width);\n",
    "}\n",
    "var output = computeAreaOfARectangle(4, 8);\n",
    "console.log(output);"
   ]
  },
  {
   "cell_type": "code",
   "execution_count": 63,
   "metadata": {},
   "outputs": [
    {
     "name": "stdout",
     "output_type": "stream",
     "text": [
      "14\n"
     ]
    }
   ],
   "source": [
    "/*\n",
    "Write a function called \"computePerimeterOfARectangle\".\n",
    "Given a length and a width describing a rectangle, \"computePerimeterOfARectangle\" returns its perimter.\n",
    "var output = computePerimeterOfARectangle(5, 2);\n",
    "console.log(output); // --> 14\n",
    "*/\n",
    "\n",
    "function computePerimeterOfARectangle(length, width) {\n",
    "  // your code here\n",
    "  return ((length * 2) + (width * 2));\n",
    "}\n",
    "var output = computePerimeterOfARectangle(5, 2);\n",
    "console.log(output);"
   ]
  },
  {
   "cell_type": "code",
   "execution_count": 64,
   "metadata": {},
   "outputs": [
    {
     "name": "stdout",
     "output_type": "stream",
     "text": [
      "20\n"
     ]
    }
   ],
   "source": [
    "/*\n",
    "Write a function called \"computePerimeterOfATriangle\".\n",
    "Given 3 sides describing a triangle, \"computePerimeterOfATriangle\" returns its perimter.\n",
    "var output = computePerimeterOfATriangle(6, 4, 10);\n",
    "console.log(output); // --> 20\n",
    "*/\n",
    "\n",
    "function computePerimeterOfATriangle(side1, side2, side3) {\n",
    "  // your code here\n",
    "  return (side1 + side2 + side3);\n",
    "}\n",
    "var output = computePerimeterOfATriangle(6, 4, 10);\n",
    "console.log(output);"
   ]
  },
  {
   "cell_type": "code",
   "execution_count": 65,
   "metadata": {},
   "outputs": [
    {
     "name": "stdout",
     "output_type": "stream",
     "text": [
      "24\n"
     ]
    }
   ],
   "source": [
    "/*\n",
    "Write a function called \"computeTripledAreaOfARectangle\".\n",
    "Given a length and width of a rectangle, \"computeTripledAreaOfARectangle\" returns the rectangle's area, multiplied by 3.\n",
    "var output = computeTripledAreaOfARectangle(2, 4);\n",
    "console.log(output); // --> 24\n",
    "*/\n",
    "\n",
    "function computeTripledAreaOfARectangle(length, width) {\n",
    "  // your code here\n",
    "  return ((length * width) * 3);\n",
    "}\n",
    "var output = computeTripledAreaOfARectangle(2, 4);\n",
    "console.log(output);"
   ]
  },
  {
   "cell_type": "code",
   "execution_count": 66,
   "metadata": {},
   "outputs": [
    {
     "name": "stdout",
     "output_type": "stream",
     "text": [
      "25.132741228718345\n"
     ]
    }
   ],
   "source": [
    "/*\n",
    "Write a function called \"computePerimeterOfACircle\".\n",
    "Given the radius of a circle, \"computePerimeterOfACircle\" returns its perimeter.\n",
    "var output = computePerimeterOfACircle(4);\n",
    "console.log(output); // --> 25.132741228718345\n",
    "*/\n",
    "\n",
    "function computePerimeterOfACircle(radius) {\n",
    "  // your code here\n",
    "  return ((radius * 2) * Math.PI);\n",
    "}\n",
    "var output = computePerimeterOfACircle(4);\n",
    "console.log(output);"
   ]
  },
  {
   "cell_type": "code",
   "execution_count": 68,
   "metadata": {},
   "outputs": [
    {
     "name": "stdout",
     "output_type": "stream",
     "text": [
      "50.26548245743669\n"
     ]
    }
   ],
   "source": [
    "/*\n",
    "Write a function called \"computeAreaOfACircle\".\n",
    "Given the radius of a circle, \"computeAreaOfACircle\" returns its area.\n",
    "var output = computeAreaOfACircle(4);\n",
    "console.log(output); // --> 50.26548245743669\n",
    "Reference:\n",
    "https://developer.mozilla.org/en-US/docs/Web/JavaScript/Reference/Global_Objects/Math/PI\n",
    "*/\n",
    "\n",
    "function computeAreaOfACircle(radius) {\n",
    "  // your code here\n",
    "  return (Math.pow(radius, 2) * Math.PI);\n",
    "}\n",
    "var output = computeAreaOfACircle(4);\n",
    "console.log(output);"
   ]
  },
  {
   "cell_type": "code",
   "execution_count": 69,
   "metadata": {},
   "outputs": [
    {
     "name": "stdout",
     "output_type": "stream",
     "text": [
      "8\n"
     ]
    }
   ],
   "source": [
    "/*\n",
    "Write a function called \"computePower\".\n",
    "Given a number and an exponent, \"computePower\" returns the given number, raised to the given exponent. \n",
    "var output = computePower(2, 3);\n",
    "console.log(output); // --> 8\n",
    "*/\n",
    "\n",
    "function computePower(num, exponent) {\n",
    "  // your code here\n",
    "  return (Math.pow(num, exponent));\n",
    "}\n",
    "var output = computePower(2, 3);\n",
    "console.log(output);"
   ]
  },
  {
   "cell_type": "code",
   "execution_count": null,
   "metadata": {
    "collapsed": true
   },
   "outputs": [],
   "source": []
  }
 ],
 "metadata": {
  "kernelspec": {
   "display_name": "Javascript (Node.js)",
   "language": "javascript",
   "name": "javascript"
  },
  "language_info": {
   "file_extension": ".js",
   "mimetype": "application/javascript",
   "name": "javascript",
   "version": "8.9.1"
  }
 },
 "nbformat": 4,
 "nbformat_minor": 2
}
