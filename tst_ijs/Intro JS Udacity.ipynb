{
 "cells": [
  {
   "cell_type": "markdown",
   "metadata": {},
   "source": [
    "### Codecademy JS course \n",
    "\n",
    "The rudiments: JS primitive data types"
   ]
  },
  {
   "cell_type": "code",
   "execution_count": 3,
   "metadata": {
    "collapsed": true
   },
   "outputs": [],
   "source": [
    "var myString = \"Rahul\";\n",
    "var myNumber = 7;\n",
    "var myBoolean = true;"
   ]
  },
  {
   "cell_type": "code",
   "execution_count": 20,
   "metadata": {},
   "outputs": [
    {
     "name": "stdout",
     "output_type": "stream",
     "text": [
      "Name: Rahul\n",
      "Lucky Number:  7\n",
      "Good joke? true\n"
     ]
    }
   ],
   "source": [
    "console.log(\"Name: \" + myString);\n",
    "console.log(\"Lucky Number: \", myNumber);\n",
    "console.log(\"Good joke? \" + myBoolean);"
   ]
  },
  {
   "cell_type": "markdown",
   "metadata": {},
   "source": [
    "#### Some simple math operators "
   ]
  },
  {
   "cell_type": "code",
   "execution_count": 6,
   "metadata": {},
   "outputs": [
    {
     "name": "stdout",
     "output_type": "stream",
     "text": [
      "27.5\n",
      "48\n",
      "0.2708333333333333\n",
      "27.083333333333332\n"
     ]
    }
   ],
   "source": [
    "console.log(24 + 3.5);\n",
    "console.log(2017-1969);\n",
    "console.log(65/240);\n",
    "console.log(0.2708333333333333 * 100);"
   ]
  },
  {
   "cell_type": "markdown",
   "metadata": {},
   "source": [
    "modulus --> return the remainder"
   ]
  },
  {
   "cell_type": "code",
   "execution_count": 9,
   "metadata": {},
   "outputs": [
    {
     "name": "stdout",
     "output_type": "stream",
     "text": [
      "1\n",
      "0\n",
      "2\n"
     ]
    }
   ],
   "source": [
    "console.log(21%2);\n",
    "console.log(18%3);\n",
    "console.log(18%4);"
   ]
  },
  {
   "cell_type": "markdown",
   "metadata": {},
   "source": [
    "Built-in math methods --> generate a random num, multiply by 100, return as an int (round down with `.floor()` method)"
   ]
  },
  {
   "cell_type": "code",
   "execution_count": 10,
   "metadata": {},
   "outputs": [
    {
     "name": "stdout",
     "output_type": "stream",
     "text": [
      "21\n"
     ]
    }
   ],
   "source": [
    "console.log(Math.floor(Math.random()*100));"
   ]
  },
  {
   "cell_type": "code",
   "execution_count": 11,
   "metadata": {
    "collapsed": true
   },
   "outputs": [],
   "source": [
    "// single line comments\n",
    "\n",
    "/*\n",
    "multiple line comments\n",
    "*/"
   ]
  },
  {
   "cell_type": "markdown",
   "metadata": {},
   "source": [
    "### Control Flow Basics\n",
    "\n",
    "let's start with some conditionals"
   ]
  },
  {
   "cell_type": "code",
   "execution_count": 12,
   "metadata": {},
   "outputs": [
    {
     "name": "stdout",
     "output_type": "stream",
     "text": [
      "Mischief managed.\n"
     ]
    }
   ],
   "source": [
    "var harryPotterFan = true;\n",
    "if (harryPotterFan) {\n",
    "  console.log('Mischief managed.');\n",
    "} else {\n",
    "  console.log('I lead a muggle\\'s life.');\n",
    "}"
   ]
  },
  {
   "cell_type": "code",
   "execution_count": 13,
   "metadata": {
    "collapsed": true
   },
   "outputs": [],
   "source": [
    "function harryPooper(harryPotterFan) {\n",
    "    if (harryPotterFan) {\n",
    "    console.log('Mischief managed.');\n",
    "    } else {\n",
    "    console.log('I lead a muggle\\'s life.');\n",
    "    }\n",
    "};"
   ]
  },
  {
   "cell_type": "code",
   "execution_count": 14,
   "metadata": {},
   "outputs": [
    {
     "name": "stdout",
     "output_type": "stream",
     "text": [
      "Mischief managed.\n"
     ]
    }
   ],
   "source": [
    "harryPooper(harryPotterFan);"
   ]
  },
  {
   "cell_type": "code",
   "execution_count": 15,
   "metadata": {},
   "outputs": [
    {
     "name": "stdout",
     "output_type": "stream",
     "text": [
      "I lead a muggle's life.\n"
     ]
    }
   ],
   "source": [
    "harryPotterFan = false;\n",
    "\n",
    "harryPooper(harryPotterFan);"
   ]
  },
  {
   "cell_type": "markdown",
   "metadata": {},
   "source": [
    "Let's use the `>` operator"
   ]
  },
  {
   "cell_type": "code",
   "execution_count": 16,
   "metadata": {},
   "outputs": [
    {
     "name": "stdout",
     "output_type": "stream",
     "text": [
      "Time to eat!\n"
     ]
    }
   ],
   "source": [
    "var hungerLevel = 10;\n",
    "if (hungerLevel > 7) {\n",
    "  console.log('Time to eat!');\n",
    "} else {\n",
    "  console.log('Let\\'s eat later.');\n",
    "}"
   ]
  },
  {
   "cell_type": "markdown",
   "metadata": {},
   "source": [
    "We've got a number of cases to consider, time to use a `switch()` statement!"
   ]
  },
  {
   "cell_type": "code",
   "execution_count": 21,
   "metadata": {},
   "outputs": [
    {
     "name": "stdout",
     "output_type": "stream",
     "text": [
      "Howwwwll!!\n"
     ]
    }
   ],
   "source": [
    "var moonPhase = 'full';\n",
    "// var foggyNight = false;\n",
    "switch (moonPhase) {\n",
    "  case 'full':\n",
    "    console.log('Howwwwll!!');\n",
    "    break;\n",
    "\tcase 'mostly full':\n",
    "    console.log('Arms and legs are getting hairier');\n",
    "\t  break;\n",
    "\tcase 'mostly new': \n",
    "    console.log('Back on two feet');\n",
    "    break;\n",
    "  default: \n",
    "      console.log('Invalid moon phase');\n",
    "  break;\n",
    "}"
   ]
  },
  {
   "cell_type": "markdown",
   "metadata": {},
   "source": [
    "### Function Basics\n",
    "A lame calculator example:"
   ]
  },
  {
   "cell_type": "code",
   "execution_count": 22,
   "metadata": {},
   "outputs": [
    {
     "name": "stdout",
     "output_type": "stream",
     "text": [
      "Calculator turning on.\n",
      "Calculator turning off.\n"
     ]
    }
   ],
   "source": [
    "var calculatorOn = false;\n",
    "\n",
    "function pressPowerButton() {\n",
    "  if (calculatorOn) {\n",
    "    console.log('Calculator turning off.');\n",
    "    calculatorOn = false;\n",
    "  } else {\n",
    "    console.log('Calculator turning on.');\n",
    "    calculatorOn = true;\n",
    "  }\n",
    "}\n",
    "\n",
    "pressPowerButton();\n",
    "// Output: Calculator turning on.\n",
    "\n",
    "pressPowerButton();\n",
    "// Output: Calculator turning off."
   ]
  },
  {
   "cell_type": "markdown",
   "metadata": {},
   "source": [
    "Pizza orders"
   ]
  },
  {
   "cell_type": "code",
   "execution_count": 23,
   "metadata": {},
   "outputs": [
    {
     "name": "stdout",
     "output_type": "stream",
     "text": [
      "0\n",
      "0\n",
      "Order: thin crust topped with bacon\n",
      "7.5\n",
      "Order: regular crust topped with pepperoni\n",
      "15\n",
      "Order: thin crust topped with pesto\n"
     ]
    }
   ],
   "source": [
    "var orderCount = 0;\n",
    "\n",
    "function takeOrder(topping, crustType) {\n",
    "  console.log('Order: ' + crustType + ' crust topped with ' + topping);\n",
    "  orderCount = orderCount + 1;\n",
    "\t\n",
    "}\n",
    "\n",
    "function getSubTotal(itemCount){\n",
    "  return itemCount * 7.5;\n",
    "\t}\n",
    "\n",
    "function getTax(){\n",
    "  return getSubTotal(orderCount) * 0.06;\n",
    "}\n",
    "\n",
    "function getTotal(){\n",
    "  return getSubTotal(orderCount) + getTax();\n",
    "}\n",
    "\n",
    "console.log(getTotal());\n",
    "console.log(getSubTotal(orderCount));\n",
    "takeOrder('bacon', 'thin');\n",
    "console.log(getSubTotal(orderCount));\n",
    "takeOrder('pepperoni', 'regular');\n",
    "console.log(getSubTotal(orderCount));\n",
    "takeOrder('pesto', 'thin');"
   ]
  },
  {
   "cell_type": "code",
   "execution_count": 28,
   "metadata": {},
   "outputs": [
    {
     "data": {
      "text/plain": [
       "[ 'Rahul Krishnamoorthy', 'RahulKrish1993' ]"
      ]
     },
     "execution_count": 28,
     "metadata": {},
     "output_type": "execute_result"
    }
   ],
   "source": [
    "// Your code here\n",
    "var myArray = [];\n",
    "\n",
    "myArray = ['Rahul Krishnamoorthy', 'RahulKrish1993'];\n",
    "\n",
    "function cutName(name) {\n",
    "  var splitName = name.split(\" \");\n",
    "  return splitName;\n",
    "};"
   ]
  },
  {
   "cell_type": "code",
   "execution_count": 29,
   "metadata": {},
   "outputs": [
    {
     "data": {
      "text/plain": [
       "[ 'Rahul', 'Krishnamoorthy' ]"
      ]
     },
     "execution_count": 29,
     "metadata": {},
     "output_type": "execute_result"
    }
   ],
   "source": [
    "cutName(myArray[0]);"
   ]
  },
  {
   "cell_type": "code",
   "execution_count": 30,
   "metadata": {},
   "outputs": [
    {
     "data": {
      "text/plain": [
       "{ fullname: [ 'Rahul', 'Krishnamoorthy' ],\n",
       "  skype: 'RahulKrish1993',\n",
       "  github: 'rksquared' }"
      ]
     },
     "execution_count": 30,
     "metadata": {},
     "output_type": "execute_result"
    }
   ],
   "source": [
    "var myInfo = {};\n",
    "\n",
    "myInfo = {\n",
    "    fullname : cutName(myArray[0]),\n",
    "    skype : myArray[1],\n",
    "    github : 'rksquared'\n",
    "};\n",
    "\n",
    "myInfo"
   ]
  },
  {
   "cell_type": "markdown",
   "metadata": {},
   "source": [
    "# Udacity Intro JS course "
   ]
  },
  {
   "cell_type": "code",
   "execution_count": 31,
   "metadata": {},
   "outputs": [
    {
     "name": "stdout",
     "output_type": "stream",
     "text": [
      "Ms. Van Cleve did it in the gallery with the trophy!\n"
     ]
    }
   ],
   "source": [
    "/*\n",
    " * Programming Quiz: Murder Mystery (3-4)\n",
    " */\n",
    "\n",
    "// change the value of `room` and `suspect` to test your code\n",
    "var room = \"gallery\";\n",
    "var suspect = \"Ms. Van Cleve\";\n",
    "\n",
    "var weapon = \"\";\n",
    "var solved = false;\n",
    "\n",
    "if (room === \"dining room\" && suspect === \"Mr. Parkes\") {\n",
    "    weapon = \"knife\";\n",
    "    solved = true;\n",
    "} else if (room === \"gallery\" && suspect === \"Ms. Van Cleve\") {\n",
    "    weapon = \"trophy\";\n",
    "    solved = true;\n",
    "} else if (room === \"billiards room\" && suspect === \"Mrs. Sparr\") {\n",
    "    weapon = \"pool stick\";\n",
    "    solved = true;\n",
    "} else if (room === \"ballroom\" && suspect === \"Mr. Kalehoff\") {\n",
    "    weapon = \"poison\";\n",
    "    solved = true;\n",
    "} else {\n",
    "    solved = false;\n",
    "}\n",
    "\n",
    "if (solved) {\n",
    "\tconsole.log(suspect + \" did it in the \" + room + \" with the \" + weapon + \"!\");\n",
    "}\n"
   ]
  },
  {
   "cell_type": "markdown",
   "metadata": {},
   "source": [
    "<img src=\"https://d17h27t6h515a5.cloudfront.net/topher/2016/December/5852beb9_tshirt-guide/tshirt-guide.png\"></img>"
   ]
  },
  {
   "cell_type": "code",
   "execution_count": 37,
   "metadata": {},
   "outputs": [
    {
     "name": "stdout",
     "output_type": "stream",
     "text": [
      "N/A\n"
     ]
    }
   ],
   "source": [
    "/*\n",
    " * Programming Quiz: What do I Wear? (3-7)\n",
    " */\n",
    "\n",
    "// change the values of `shirtWidth`, `shirtLength`, and `shirtSleeve` to test your code\n",
    "var shirtWidth = 18;\n",
    "var shirtLength = 29;\n",
    "var shirtSleeve = 9;\n",
    "\n",
    "if ((shirtWidth >= 18 && shirtWidth < 20) &&\n",
    "    (shirtLength >= 28 && shirtLength < 29) &&\n",
    "    (shirtSleeve >= 8.13 && shirtSleeve < 8.38)) {\n",
    "      console.log(\"S\");  \n",
    "} else if ((shirtWidth >= 20 && shirtWidth < 22) &&\n",
    "           (shirtLength >= 29 && shirtLength < 30) &&\n",
    "           (shirtSleeve >= 8.38 && shirtSleeve < 8.63)) {\n",
    "    console.log(\"M\");\n",
    "} else if ((shirtWidth >= 22 && shirtWidth < 24) &&\n",
    "           (shirtLength >= 30 && shirtLength < 31) &&\n",
    "           (shirtSleeve >= 8.63 && shirtSleeve < 8.88)) {\n",
    "    console.log(\"L\");\n",
    "} else if ((shirtWidth >= 24 && shirtWidth < 26) &&\n",
    "           (shirtLength >= 31 && shirtLength < 33) &&\n",
    "           (shirtSleeve >= 8.88 && shirtSleeve < 9.63)) {\n",
    "    console.log(\"XL\");\n",
    "} else if ((shirtWidth >= 26 && shirtWidth < 28) &&\n",
    "           (shirtLength >= 33 && shirtLength < 34) &&\n",
    "           (shirtSleeve >= 9.63 && shirtSleeve < 10.13)) {\n",
    "    console.log(\"2XL\");\n",
    "} else if (shirtWidth >= 28 && shirtLength >= 34 && shirtSleeve >= 10.13){\n",
    "    console.log(\"3XL\");\n",
    "} else {\n",
    "    console.log(\"N/A\");\n",
    "}\n"
   ]
  },
  {
   "cell_type": "code",
   "execution_count": 38,
   "metadata": {},
   "outputs": [
    {
     "name": "stdout",
     "output_type": "stream",
     "text": [
      "omnivore\n"
     ]
    }
   ],
   "source": [
    "/*\n",
    " * Programming Quiz - Navigating the Food Chain (3-8)\n",
    " *\n",
    " * Use a series of ternary operator to set the category to one of the following:\n",
    " *   - \"herbivore\" if an animal eats plants\n",
    " *   - \"carnivore\" if an animal eats animals\n",
    " *   - \"omnivore\" if an animal eats plants and animals\n",
    " *   - undefined if an animal doesn't eat plants or animals\n",
    " *\n",
    " * Notes\n",
    " *   - use the variables `eatsPlants` and `eatsAnimals` in your ternary expressions\n",
    " *   - `if` statements aren't allowed ;-)\n",
    " */\n",
    "\n",
    "// change the values of `eatsPlants` and `eatsAnimals` to test your code\n",
    "var eatsPlants = true;\n",
    "var eatsAnimals = true;\n",
    "\n",
    "var category = (eatsPlants && eatsAnimals) ? 'omnivore' : (eatsAnimals ? 'carnivore' : (eatsPlants ? 'herbivore' : undefined));\n",
    "\n",
    "console.log(category);\n"
   ]
  },
  {
   "cell_type": "code",
   "execution_count": 40,
   "metadata": {},
   "outputs": [
    {
     "name": "stdout",
     "output_type": "stream",
     "text": [
      "In 2015, a person with a Doctoral degree earned an average of $84,396/year.\n"
     ]
    }
   ],
   "source": [
    "/*\n",
    " * Programming Quiz: Back to School (3-9)\n",
    " */\n",
    "\n",
    "// change the value of `education` to test your code\n",
    "var education = \"a Doctoral degree\";\n",
    "\n",
    "// set the value of this based on a person's education\n",
    "var salary;\n",
    "\n",
    "switch (education) {\n",
    "    case \"no high school diploma\":\n",
    "        salary = 25635;\n",
    "        break;\n",
    "    case \"a high school diploma\":\n",
    "        salary = 35256;\n",
    "        break;\n",
    "    case \"an Associate's degree\":\n",
    "        salary = 41496;\n",
    "        break;\n",
    "    case \"a Bachelor's degree\":\n",
    "        salary = 59124;\n",
    "        break;\n",
    "    case \"a Master's degree\":\n",
    "        salary = 69732;\n",
    "        break;\n",
    "    case \"a Professional degree\":\n",
    "        salary = 89960;\n",
    "        break;\n",
    "    case \"a Doctoral degree\":\n",
    "        salary = 84396;\n",
    "}\n",
    "\n",
    "console.log(\"In 2015, a person with \" + education + \" earned an average of $\" + salary.toLocaleString(\"en-US\") + \"/year.\");"
   ]
  },
  {
   "cell_type": "code",
   "execution_count": null,
   "metadata": {
    "collapsed": true
   },
   "outputs": [],
   "source": []
  }
 ],
 "metadata": {
  "kernelspec": {
   "display_name": "Javascript (Node.js)",
   "language": "javascript",
   "name": "javascript"
  },
  "language_info": {
   "file_extension": ".js",
   "mimetype": "application/javascript",
   "name": "javascript",
   "version": "8.9.1"
  }
 },
 "nbformat": 4,
 "nbformat_minor": 2
}
