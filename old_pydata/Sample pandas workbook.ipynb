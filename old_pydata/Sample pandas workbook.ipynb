{
 "cells": [
  {
   "cell_type": "markdown",
   "metadata": {},
   "source": [
    "# Sample pandas notebook\n",
    "\n",
    "first lets import Pandas and give it the standard alias"
   ]
  },
  {
   "cell_type": "code",
   "execution_count": 3,
   "metadata": {},
   "outputs": [],
   "source": [
    "import pandas as pd"
   ]
  },
  {
   "cell_type": "markdown",
   "metadata": {},
   "source": [
    "now let's read in our CSV file for world alcohol consumption:"
   ]
  },
  {
   "cell_type": "code",
   "execution_count": 4,
   "metadata": {},
   "outputs": [
    {
     "name": "stdout",
     "output_type": "stream",
     "text": [
      "      Year             WHO region  \\\n",
      "0     1986        Western Pacific   \n",
      "1     1986               Americas   \n",
      "2     1985                 Africa   \n",
      "3     1986               Americas   \n",
      "4     1987               Americas   \n",
      "5     1987               Americas   \n",
      "6     1987                 Africa   \n",
      "7     1985                 Africa   \n",
      "8     1986               Americas   \n",
      "9     1984                 Africa   \n",
      "10    1987                 Africa   \n",
      "11    1989               Americas   \n",
      "12    1985        Western Pacific   \n",
      "13    1984  Eastern Mediterranean   \n",
      "14    1985        Western Pacific   \n",
      "15    1987                 Africa   \n",
      "16    1984               Americas   \n",
      "17    1989                 Africa   \n",
      "18    1984                 Europe   \n",
      "19    1984                 Africa   \n",
      "20    1986        South-East Asia   \n",
      "21    1989               Americas   \n",
      "22    1984                 Europe   \n",
      "23    1984                 Europe   \n",
      "24    1985                 Africa   \n",
      "25    1984  Eastern Mediterranean   \n",
      "26    1985                 Europe   \n",
      "27    1984  Eastern Mediterranean   \n",
      "28    1987        Western Pacific   \n",
      "29    1986                 Europe   \n",
      "...    ...                    ...   \n",
      "3227  1989               Americas   \n",
      "3228  1989                 Africa   \n",
      "3229  1987               Americas   \n",
      "3230  1987                 Europe   \n",
      "3231  1989  Eastern Mediterranean   \n",
      "3232  1986               Americas   \n",
      "3233  1984                 Europe   \n",
      "3234  1984        Western Pacific   \n",
      "3235  1986               Americas   \n",
      "3236  1986                 Africa   \n",
      "3237  1987               Americas   \n",
      "3238  1984        Western Pacific   \n",
      "3239  1986        Western Pacific   \n",
      "3240  1986                 Europe   \n",
      "3241  1984  Eastern Mediterranean   \n",
      "3242  1986                 Europe   \n",
      "3243  1985                 Europe   \n",
      "3244  1986  Eastern Mediterranean   \n",
      "3245  1985        South-East Asia   \n",
      "3246  1989                 Europe   \n",
      "3247  1984                 Europe   \n",
      "3248  1986                 Europe   \n",
      "3249  1989                 Europe   \n",
      "3250  1987                 Europe   \n",
      "3251  1984                 Africa   \n",
      "3252  1984                 Africa   \n",
      "3253  1986        Western Pacific   \n",
      "3254  1986                 Europe   \n",
      "3255  1987        Western Pacific   \n",
      "3256  1986                 Africa   \n",
      "\n",
      "                                                Country Beverage Types  \\\n",
      "0                                              Viet Nam           Wine   \n",
      "1                                               Uruguay          Other   \n",
      "2                                          Cte d'Ivoire           Wine   \n",
      "3                                              Colombia           Beer   \n",
      "4                                 Saint Kitts and Nevis           Beer   \n",
      "5                                             Guatemala          Other   \n",
      "6                                             Mauritius           Wine   \n",
      "7                                                Angola        Spirits   \n",
      "8                                   Antigua and Barbuda        Spirits   \n",
      "9                                               Nigeria          Other   \n",
      "10                                             Botswana           Wine   \n",
      "11                                            Guatemala           Beer   \n",
      "12                     Lao People's Democratic Republic           Beer   \n",
      "13                                          Afghanistan          Other   \n",
      "14                                             Viet Nam        Spirits   \n",
      "15                                        Guinea-Bissau           Wine   \n",
      "16                                           Costa Rica           Wine   \n",
      "17                                           Seychelles           Beer   \n",
      "18                                               Norway        Spirits   \n",
      "19                                                Kenya           Beer   \n",
      "20                                              Myanmar           Wine   \n",
      "21                                           Costa Rica        Spirits   \n",
      "22                                              Romania        Spirits   \n",
      "23                                               Turkey           Beer   \n",
      "24                                              Comoros          Other   \n",
      "25                                              Tunisia          Other   \n",
      "26    United Kingdom of Great Britain and Northern I...           Wine   \n",
      "27                                              Bahrain           Beer   \n",
      "28                                             Viet Nam           Beer   \n",
      "29                                                Italy          Other   \n",
      "...                                                 ...            ...   \n",
      "3227                   Bolivia (Plurinational State of)           Wine   \n",
      "3228                                         Madagascar           Wine   \n",
      "3229                   Bolivia (Plurinational State of)           Beer   \n",
      "3230                                             France        Spirits   \n",
      "3231                                            Morocco        Spirits   \n",
      "3232                                           Paraguay        Spirits   \n",
      "3233                                     Czech Republic          Other   \n",
      "3234                                               Fiji        Spirits   \n",
      "3235                                             Belize           Beer   \n",
      "3236                                         Seychelles           Beer   \n",
      "3237                                             Canada          Other   \n",
      "3238                                               Fiji           Wine   \n",
      "3239                                           Viet Nam        Spirits   \n",
      "3240                                           Slovenia           Beer   \n",
      "3241                                           Djibouti           Wine   \n",
      "3242                                             Poland          Other   \n",
      "3243                                           Slovakia           Wine   \n",
      "3244                               United Arab Emirates          Other   \n",
      "3245                                              India        Spirits   \n",
      "3246                                             Poland           Beer   \n",
      "3247                                             Latvia        Spirits   \n",
      "3248                                           Bulgaria        Spirits   \n",
      "3249                                             Turkey          Other   \n",
      "3250                                            Iceland          Other   \n",
      "3251                                             Angola           Wine   \n",
      "3252                           Central African Republic           Wine   \n",
      "3253                                               Fiji        Spirits   \n",
      "3254                                        Switzerland        Spirits   \n",
      "3255                                   Papua New Guinea          Other   \n",
      "3256                                          Swaziland          Other   \n",
      "\n",
      "      Display Value  \n",
      "0              0.00  \n",
      "1              0.50  \n",
      "2              1.62  \n",
      "3              4.27  \n",
      "4              1.98  \n",
      "5              0.00  \n",
      "6              0.13  \n",
      "7              0.39  \n",
      "8              1.55  \n",
      "9              6.10  \n",
      "10             0.20  \n",
      "11             0.62  \n",
      "12             0.00  \n",
      "13             0.00  \n",
      "14             0.05  \n",
      "15             0.07  \n",
      "16             0.06  \n",
      "17             2.23  \n",
      "18             1.62  \n",
      "19             1.08  \n",
      "20             0.00  \n",
      "21             4.51  \n",
      "22             2.67  \n",
      "23             0.44  \n",
      "24              NaN  \n",
      "25             0.00  \n",
      "26             1.36  \n",
      "27             2.22  \n",
      "28             0.11  \n",
      "29              NaN  \n",
      "...             ...  \n",
      "3227           0.08  \n",
      "3228           0.19  \n",
      "3229           1.16  \n",
      "3230           2.77  \n",
      "3231           0.07  \n",
      "3232           5.17  \n",
      "3233            NaN  \n",
      "3234           0.09  \n",
      "3235           1.35  \n",
      "3236           2.16  \n",
      "3237            NaN  \n",
      "3238           0.13  \n",
      "3239           0.05  \n",
      "3240           3.71  \n",
      "3241           0.51  \n",
      "3242            NaN  \n",
      "3243           2.60  \n",
      "3244           0.00  \n",
      "3245           1.24  \n",
      "3246           2.03  \n",
      "3247           7.50  \n",
      "3248           4.32  \n",
      "3249           0.00  \n",
      "3250           0.01  \n",
      "3251           0.57  \n",
      "3252           0.46  \n",
      "3253           0.05  \n",
      "3254           2.54  \n",
      "3255           0.00  \n",
      "3256           5.15  \n",
      "\n",
      "[3257 rows x 5 columns]\n"
     ]
    }
   ],
   "source": [
    "world_alcohol = pd.read_csv(\"/Users/rksquared/projects/pyeicon/five_thirty_eight_tstdata/tot_ann_alc_consump.csv\")\n",
    "print(world_alcohol)"
   ]
  },
  {
   "cell_type": "markdown",
   "metadata": {},
   "source": [
    "Let's pull out the list of columns/column labels"
   ]
  },
  {
   "cell_type": "code",
   "execution_count": 5,
   "metadata": {},
   "outputs": [
    {
     "name": "stdout",
     "output_type": "stream",
     "text": [
      "Index(['Year', 'WHO region', 'Country', 'Beverage Types', 'Display Value'], dtype='object')\n"
     ]
    }
   ],
   "source": [
    "print(world_alcohol.columns)"
   ]
  },
  {
   "cell_type": "markdown",
   "metadata": {},
   "source": [
    "^ This is a useful function baked into the basic 2 dimensional datastructure for pandas: **the dataframe**\n",
    "\n",
    "Let's play with some of the other built-in attributes of pandas dataframes. Let's say we'd like to know the # of rows and # of columns for some more advanced operations:"
   ]
  },
  {
   "cell_type": "code",
   "execution_count": 6,
   "metadata": {},
   "outputs": [
    {
     "name": "stdout",
     "output_type": "stream",
     "text": [
      "(3257, 5)\n"
     ]
    }
   ],
   "source": [
    "print(world_alcohol.shape)"
   ]
  },
  {
   "cell_type": "markdown",
   "metadata": {},
   "source": [
    "^ This two attributes are eminently useful, as we shall see here.\n",
    "\n",
    "Let's say we want to slice the dataframe and return only the last ten rows. One way we can accomplish this is via the information returned by the df.shape attribute in tandem with the loc() method."
   ]
  },
  {
   "cell_type": "code",
   "execution_count": 23,
   "metadata": {},
   "outputs": [
    {
     "name": "stdout",
     "output_type": "stream",
     "text": [
      "      Year       WHO region                   Country Beverage Types  \\\n",
      "3247  1984           Europe                    Latvia        Spirits   \n",
      "3248  1986           Europe                  Bulgaria        Spirits   \n",
      "3249  1989           Europe                    Turkey          Other   \n",
      "3250  1987           Europe                   Iceland          Other   \n",
      "3251  1984           Africa                    Angola           Wine   \n",
      "3252  1984           Africa  Central African Republic           Wine   \n",
      "3253  1986  Western Pacific                      Fiji        Spirits   \n",
      "3254  1986           Europe               Switzerland        Spirits   \n",
      "3255  1987  Western Pacific          Papua New Guinea          Other   \n",
      "3256  1986           Africa                 Swaziland          Other   \n",
      "\n",
      "      Display Value  \n",
      "3247           7.50  \n",
      "3248           4.32  \n",
      "3249           0.00  \n",
      "3250           0.01  \n",
      "3251           0.57  \n",
      "3252           0.46  \n",
      "3253           0.05  \n",
      "3254           2.54  \n",
      "3255           0.00  \n",
      "3256           5.15  \n"
     ]
    }
   ],
   "source": [
    "last_ten = world_alcohol.loc[3247:]\n",
    "\n",
    "print(last_ten)"
   ]
  },
  {
   "cell_type": "code",
   "execution_count": 24,
   "metadata": {},
   "outputs": [
    {
     "data": {
      "text/plain": [
       "Year                int64\n",
       "WHO region         object\n",
       "Country            object\n",
       "Beverage Types     object\n",
       "Display Value     float64\n",
       "dtype: object"
      ]
     },
     "execution_count": 24,
     "metadata": {},
     "output_type": "execute_result"
    }
   ],
   "source": [
    "last_ten.dtypes"
   ]
  },
  {
   "cell_type": "code",
   "execution_count": 27,
   "metadata": {},
   "outputs": [
    {
     "data": {
      "text/plain": [
       "3247             Europe\n",
       "3248             Europe\n",
       "3249             Europe\n",
       "3250             Europe\n",
       "3251             Africa\n",
       "3252             Africa\n",
       "3253    Western Pacific\n",
       "3254             Europe\n",
       "3255    Western Pacific\n",
       "3256             Africa\n",
       "Name: WHO region, dtype: object"
      ]
     },
     "execution_count": 27,
     "metadata": {},
     "output_type": "execute_result"
    }
   ],
   "source": [
    "last_ten[\"WHO region\"]"
   ]
  },
  {
   "cell_type": "code",
   "execution_count": 30,
   "metadata": {},
   "outputs": [
    {
     "data": {
      "text/plain": [
       "['Year', 'WHO region', 'Country', 'Beverage Types', 'Display Value']"
      ]
     },
     "execution_count": 30,
     "metadata": {},
     "output_type": "execute_result"
    }
   ],
   "source": [
    "column_list = world_alcohol.columns.tolist()\n",
    "column_list"
   ]
  },
  {
   "cell_type": "code",
   "execution_count": 34,
   "metadata": {},
   "outputs": [
    {
     "name": "stdout",
     "output_type": "stream",
     "text": [
      "0       0.00\n",
      "1       0.50\n",
      "2       1.62\n",
      "3       4.27\n",
      "4       1.98\n",
      "5       0.00\n",
      "6       0.13\n",
      "7       0.39\n",
      "8       1.55\n",
      "9       6.10\n",
      "10      0.20\n",
      "11      0.62\n",
      "12      0.00\n",
      "13      0.00\n",
      "14      0.05\n",
      "15      0.07\n",
      "16      0.06\n",
      "17      2.23\n",
      "18      1.62\n",
      "19      1.08\n",
      "20      0.00\n",
      "21      4.51\n",
      "22      2.67\n",
      "23      0.44\n",
      "24       NaN\n",
      "25      0.00\n",
      "26      1.36\n",
      "27      2.22\n",
      "28      0.11\n",
      "29       NaN\n",
      "        ... \n",
      "3227    0.08\n",
      "3228    0.19\n",
      "3229    1.16\n",
      "3230    2.77\n",
      "3231    0.07\n",
      "3232    5.17\n",
      "3233     NaN\n",
      "3234    0.09\n",
      "3235    1.35\n",
      "3236    2.16\n",
      "3237     NaN\n",
      "3238    0.13\n",
      "3239    0.05\n",
      "3240    3.71\n",
      "3241    0.51\n",
      "3242     NaN\n",
      "3243    2.60\n",
      "3244    0.00\n",
      "3245    1.24\n",
      "3246    2.03\n",
      "3247    7.50\n",
      "3248    4.32\n",
      "3249    0.00\n",
      "3250    0.01\n",
      "3251    0.57\n",
      "3252    0.46\n",
      "3253    0.05\n",
      "3254    2.54\n",
      "3255    0.00\n",
      "3256    5.15\n",
      "Name: Display Value, Length: 3257, dtype: float64\n",
      "max val is  13.5\n"
     ]
    }
   ],
   "source": [
    "disp_val = world_alcohol[\"Display Value\"]\n",
    "\n",
    "max_val = disp_val.max()\n",
    "\n",
    "print(disp_val)\n",
    "print(\"max val is \", max_val)"
   ]
  },
  {
   "cell_type": "code",
   "execution_count": null,
   "metadata": {
    "collapsed": true
   },
   "outputs": [],
   "source": []
  }
 ],
 "metadata": {
  "kernelspec": {
   "display_name": "Python 3",
   "language": "python",
   "name": "python3"
  },
  "language_info": {
   "codemirror_mode": {
    "name": "ipython",
    "version": 3
   },
   "file_extension": ".py",
   "mimetype": "text/x-python",
   "name": "python",
   "nbconvert_exporter": "python",
   "pygments_lexer": "ipython3",
   "version": "3.6.3"
  }
 },
 "nbformat": 4,
 "nbformat_minor": 2
}
